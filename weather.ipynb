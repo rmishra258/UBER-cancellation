{
 "cells": [
  {
   "cell_type": "code",
   "execution_count": 2,
   "metadata": {},
   "outputs": [
    {
     "name": "stdout",
     "output_type": "stream",
     "text": [
      "Collecting wwo-hist\n",
      "Installing collected packages: wwo-hist\n",
      "Successfully installed wwo-hist-0.0.4\n"
     ]
    }
   ],
   "source": [
    "!pip install wwo-hist"
   ]
  },
  {
   "cell_type": "code",
   "execution_count": 3,
   "metadata": {},
   "outputs": [
    {
     "name": "stdout",
     "output_type": "stream",
     "text": [
      "\n",
      "\n",
      "Retrieving weather data for hongkong\n",
      "\n",
      "\n",
      "Currently retrieving data for hongkong: from 2018-06-08 to 2018-06-30\n",
      "Time elapsed (hh:mm:ss.ms) 0:00:01.191942\n",
      "Currently retrieving data for hongkong: from 2018-07-01 to 2018-07-06\n",
      "Time elapsed (hh:mm:ss.ms) 0:00:01.650345\n",
      "\n",
      "\n",
      "export hongkong completed!\n",
      "\n",
      "\n"
     ]
    }
   ],
   "source": [
    "from wwo_hist import retrieve_hist_data\n",
    "\n",
    "\n",
    "frequency = 24\n",
    "start_date = '08-JUN-2018'\n",
    "end_date = '06-JUL-2018'\n",
    "api_key = '5de2ebbc8e2340fe9f0105401192609'\n",
    "location_list = ['hongkong']\n",
    "hist_weather_data = retrieve_hist_data(api_key,\n",
    "                                location_list,\n",
    "                                start_date,\n",
    "                                end_date,\n",
    "                                frequency,\n",
    "                                location_label = False,\n",
    "                                export_csv = True,\n",
    "                                store_df = True)"
   ]
  },
  {
   "cell_type": "code",
   "execution_count": 7,
   "metadata": {},
   "outputs": [],
   "source": []
  },
  {
   "cell_type": "code",
   "execution_count": 17,
   "metadata": {},
   "outputs": [
    {
     "data": {
      "text/plain": [
       "datetime.datetime(2019, 9, 10, 0, 0)"
      ]
     },
     "execution_count": 17,
     "metadata": {},
     "output_type": "execute_result"
    }
   ],
   "source": []
  },
  {
   "cell_type": "code",
   "execution_count": null,
   "metadata": {},
   "outputs": [],
   "source": []
  }
 ],
 "metadata": {
  "kernelspec": {
   "display_name": "Python 3",
   "language": "python",
   "name": "python3"
  },
  "language_info": {
   "codemirror_mode": {
    "name": "ipython",
    "version": 3
   },
   "file_extension": ".py",
   "mimetype": "text/x-python",
   "name": "python",
   "nbconvert_exporter": "python",
   "pygments_lexer": "ipython3",
   "version": "3.7.3"
  }
 },
 "nbformat": 4,
 "nbformat_minor": 4
}
